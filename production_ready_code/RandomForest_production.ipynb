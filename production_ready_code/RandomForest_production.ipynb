{
 "cells": [
  {
   "cell_type": "code",
   "execution_count": 1,
   "id": "e8cd98aa-4f8c-448a-9b83-566cacb512bd",
   "metadata": {},
   "outputs": [
    {
     "name": "stderr",
     "output_type": "stream",
     "text": [
      "/Users/sunandclouds/opt/anaconda3/lib/python3.8/site-packages/pandas/core/computation/expressions.py:20: UserWarning: Pandas requires version '2.7.3' or newer of 'numexpr' (version '2.7.1' currently installed).\n",
      "  from pandas.core.computation.check import NUMEXPR_INSTALLED\n"
     ]
    },
    {
     "name": "stdout",
     "output_type": "stream",
     "text": [
      "average accuracy 0.87543\n",
      "0.81\n",
      "0.81 1.0\n",
      "0 0.0\n",
      "0.8775\n",
      "0.91 0.95\n",
      "0.72 0.58\n"
     ]
    },
    {
     "name": "stderr",
     "output_type": "stream",
     "text": [
      "1it [00:10, 10.17s/it]"
     ]
    },
    {
     "name": "stdout",
     "output_type": "stream",
     "text": [
      "ensemble accuracy 0.8458333333333333\n"
     ]
    },
    {
     "name": "stderr",
     "output_type": "stream",
     "text": [
      "2it [00:20,  9.98s/it]"
     ]
    },
    {
     "name": "stdout",
     "output_type": "stream",
     "text": [
      "ensemble accuracy 0.8958333333333334\n"
     ]
    },
    {
     "name": "stderr",
     "output_type": "stream",
     "text": [
      "3it [00:29,  9.96s/it]"
     ]
    },
    {
     "name": "stdout",
     "output_type": "stream",
     "text": [
      "ensemble accuracy 0.8791666666666667\n"
     ]
    },
    {
     "name": "stderr",
     "output_type": "stream",
     "text": [
      "4it [00:39,  9.92s/it]"
     ]
    },
    {
     "name": "stdout",
     "output_type": "stream",
     "text": [
      "ensemble accuracy 0.9166666666666666\n"
     ]
    },
    {
     "name": "stderr",
     "output_type": "stream",
     "text": [
      "5it [00:49,  9.93s/it]"
     ]
    },
    {
     "name": "stdout",
     "output_type": "stream",
     "text": [
      "ensemble accuracy 0.8958333333333334\n"
     ]
    },
    {
     "name": "stderr",
     "output_type": "stream",
     "text": [
      "\n"
     ]
    },
    {
     "data": {
      "text/plain": [
       "(array([ 1.,  9.,  9., 19., 21., 69., 68., 33., 17.,  4.]),\n",
       " array([0.8525, 0.8565, 0.8605, 0.8645, 0.8685, 0.8725, 0.8765, 0.8805,\n",
       "        0.8845, 0.8885, 0.8925]),\n",
       " <BarContainer object of 10 artists>)"
      ]
     },
     "execution_count": 1,
     "metadata": {},
     "output_type": "execute_result"
    },
    {
     "data": {
      "image/png": "[encoded data removed]",
      "text/plain": [
       "<Figure size 432x288 with 1 Axes>"
      ]
     },
     "metadata": {
      "needs_background": "light"
     },
     "output_type": "display_data"
    }
   ],
   "source": [
    "import pandas as pd\n",
    "import numpy as np \n",
    "from sklearn.model_selection import train_test_split\n",
    "from sklearn.ensemble import RandomForestClassifier\n",
    "from sklearn.datasets import make_classification\n",
    "from sklearn.preprocessing import MinMaxScaler\n",
    "from sklearn.model_selection import KFold, StratifiedKFold\n",
    "from tqdm import tqdm\n",
    "\n",
    "import matplotlib.pyplot as plt\n",
    "import seaborn as sns\n",
    "\n",
    "plt.rcParams[\"figure.figsize\"] = (10, 7)\n",
    "plt.rcParams[\"figure.dpi\"] = 100\n",
    "\n",
    "# Load the dataset\n",
    "file_path = 'training_data.csv'\n",
    "data = pd.read_csv(file_path)\n",
    "data['increase_stock_binary'] = data['increase_stock'].apply(lambda x: 1 if x == 'high_bike_demand' else 0)\n",
    "data = data.drop([\"increase_stock\"], axis=1)\n",
    "\n",
    "X = data.to_numpy()\n",
    "scaler = MinMaxScaler()\n",
    "X = scaler.fit_transform(X)\n",
    "\n",
    "y = X[:,-1].astype(np.float32)\n",
    "X = X[:,:-1].astype(np.float32)\n",
    "\n",
    "metric = lambda a, b: (a == b).mean()\n",
    "\n",
    "def RandomForestEnsemble(x, models):\n",
    "    predictions = [model.predict_proba(x) for model in models]\n",
    "    proba1 = np.mean(predictions, axis=0)[:, 1] # probability of predicting label 1\n",
    "    return proba1.round() # [0,0,0,1,0,1,0,0,0,...]\n",
    "\n",
    "def compute_precision(predictions, labels, positive_label=1):\n",
    "    TP = ((predictions == positive_label) & (labels == positive_label)).sum().item()\n",
    "    FP = ((predictions == positive_label) & (labels != positive_label)).sum().item()\n",
    "    return TP / (TP + FP) if (TP + FP) > 0 else 0\n",
    "\n",
    "def compute_recall(predictions, labels, positive_label=1):\n",
    "    TP = ((predictions == positive_label) & (labels == positive_label)).sum().item()\n",
    "    FN = ((predictions != positive_label) & (labels == positive_label)).sum().item()\n",
    "    return TP / (TP + FN) if (TP + FN) > 0 else 0\n",
    "\n",
    "X_train, X_test, y_train, y_test = train_test_split(X, y, train_size=0.75, random_state=0, shuffle=True)\n",
    "\n",
    "seeds = range(50)\n",
    "scores = []\n",
    "models = []\n",
    "kf = StratifiedKFold(n_splits=5, shuffle=True, random_state=0)\n",
    "\n",
    "for s in seeds:\n",
    "    # Note how the indices between the validation set and train set are flipped.\n",
    "    # This means that the classifier will be trained on less than 50% of the data.\n",
    "    for i, (train_index, test_index) in enumerate(kf.split(X_train, y_train)):\n",
    "        clf = RandomForestClassifier(\n",
    "            n_estimators=200, max_depth=100, criterion=\"entropy\",\n",
    "            random_state=s, n_jobs=-1\n",
    "        )\n",
    "        clf.fit(X_train[train_index], y_train[train_index])\n",
    "        # accuracy = clf.score(X_train[test_index], y_train[test_index])\n",
    "        accuracy = clf.score(X_test, y_test)\n",
    "        scores.append(accuracy)\n",
    "        models.append(clf)\n",
    "\n",
    "print(\"average accuracy\", np.mean(scores))\n",
    "\n",
    "X_pred = RandomForestEnsemble(X_test, models)\n",
    "metric(X_pred, y_test)\n",
    "\n",
    "X_pred = np.zeros(len(y_test))\n",
    "print(metric(X_pred, y_test))\n",
    "for positive_label in [0, 1]:\n",
    "    recall = compute_recall(X_pred, y_test, positive_label)\n",
    "    precision = compute_precision(X_pred, y_test, positive_label)\n",
    "    print(round(precision, 2), round(recall, 2))\n",
    "\n",
    "X_pred = RandomForestEnsemble(X_test, models)\n",
    "print(metric(X_pred, y_test))\n",
    "for positive_label in [0, 1]:\n",
    "    recall = compute_recall(X_pred, y_test, positive_label)\n",
    "    precision = compute_precision(X_pred, y_test, positive_label)\n",
    "    print(round(precision, 2), round(recall, 2))\n",
    "\n",
    "X_train, X_test, y_train, y_test = train_test_split(X, y, train_size=0.75, random_state=0, shuffle=True)\n",
    "\n",
    "clf = RandomForestClassifier(\n",
    "    n_estimators=200, max_depth=100, criterion=\"entropy\", oob_score=True,\n",
    "    random_state=0, n_jobs=-1\n",
    ")\n",
    "\n",
    "clf.fit(X_train, y_train)\n",
    "\n",
    "seeds = range(10)\n",
    "# kf = StraKFold(5, random_state=0, shuffle=True)\n",
    "\n",
    "for i, (train_index, test_index) in tqdm(enumerate(kf.split(X_train, y_train))):\n",
    "    X_, X_test = X[train_index], X[test_index]\n",
    "    y_, y_test = y[train_index], y[test_index]\n",
    "    models = []\n",
    "    \n",
    "    # This loop creates a list of 3 * seeds classifiers using Bagging,\n",
    "    # by splitting the training set into 3 sets. \n",
    "    for s in seeds:\n",
    "        # Note how the indices between the validation set and train set are flipped.\n",
    "        # This means that the classifier will be trained on less than 50% of the data.\n",
    "        for i, (train_index_, _) in enumerate(KFold(n_splits=3).split(X_)):\n",
    "            X_train = X_[train_index_]\n",
    "            y_train = y_[train_index_]\n",
    "            clf = RandomForestClassifier(\n",
    "                n_estimators=200, max_depth=100, criterion=\"entropy\",\n",
    "                random_state=s, n_jobs=-1\n",
    "            )\n",
    "            clf.fit(X_train, y_train)\n",
    "            models.append(clf)\n",
    "\n",
    "    X_pred = RandomForestEnsemble(X_test, models)\n",
    "    print(\"ensemble accuracy\", metric(X_pred, y_test))\n",
    "\n",
    "plt.hist(scores)"
   ]
  },
  {
   "cell_type": "code",
   "execution_count": null,
   "id": "e69a8dea-0469-496b-bbb5-83e0bfe49850",
   "metadata": {},
   "outputs": [],
   "source": []
  }
 ],
 "metadata": {
  "kernelspec": {
   "display_name": "Python 3",
   "language": "python",
   "name": "python3"
  },
  "language_info": {
   "codemirror_mode": {
    "name": "ipython",
    "version": 3
   },
   "file_extension": ".py",
   "mimetype": "text/x-python",
   "name": "python",
   "nbconvert_exporter": "python",
   "pygments_lexer": "ipython3",
   "version": "3.8.5"
  }
 },
 "nbformat": 4,
 "nbformat_minor": 5
}
