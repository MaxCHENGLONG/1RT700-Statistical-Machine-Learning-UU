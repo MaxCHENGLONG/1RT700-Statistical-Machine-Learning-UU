{
 "cells": [
  {
   "cell_type": "code",
   "execution_count": 2,
   "id": "1bb7f7ed-d03c-401a-867d-3f871adda891",
   "metadata": {},
   "outputs": [],
   "source": [
    "import pandas as pd\n",
    "import numpy as np \n",
    "from sklearn.model_selection import train_test_split\n",
    "from sklearn.ensemble import RandomForestClassifier\n",
    "from sklearn.datasets import make_classification\n",
    "from sklearn.preprocessing import MinMaxScaler\n",
    "from sklearn.model_selection import KFold, StratifiedKFold\n",
    "from tqdm import tqdm\n",
    "\n",
    "import matplotlib.pyplot as plt\n",
    "import seaborn as sns\n",
    "\n",
    "plt.rcParams[\"figure.figsize\"] = (10, 7)\n",
    "plt.rcParams[\"figure.dpi\"] = 100"
   ]
  },
  {
   "cell_type": "code",
   "execution_count": 3,
   "id": "4ac2cf7f-ddde-4ac3-bdba-e4420dae3eb1",
   "metadata": {},
   "outputs": [
    {
     "data": {
      "text/html": [
       "<div>\n",
       "<style scoped>\n",
       "    .dataframe tbody tr th:only-of-type {\n",
       "        vertical-align: middle;\n",
       "    }\n",
       "\n",
       "    .dataframe tbody tr th {\n",
       "        vertical-align: top;\n",
       "    }\n",
       "\n",
       "    .dataframe thead th {\n",
       "        text-align: right;\n",
       "    }\n",
       "</style>\n",
       "<table border=\"1\" class=\"dataframe\">\n",
       "  <thead>\n",
       "    <tr style=\"text-align: right;\">\n",
       "      <th></th>\n",
       "      <th>hour_of_day</th>\n",
       "      <th>day_of_week</th>\n",
       "      <th>month</th>\n",
       "      <th>holiday</th>\n",
       "      <th>weekday</th>\n",
       "      <th>summertime</th>\n",
       "      <th>temp</th>\n",
       "      <th>dew</th>\n",
       "      <th>humidity</th>\n",
       "      <th>precip</th>\n",
       "      <th>snow</th>\n",
       "      <th>snowdepth</th>\n",
       "      <th>windspeed</th>\n",
       "      <th>cloudcover</th>\n",
       "      <th>visibility</th>\n",
       "      <th>increase_stock_binary</th>\n",
       "    </tr>\n",
       "  </thead>\n",
       "  <tbody>\n",
       "    <tr>\n",
       "      <th>0</th>\n",
       "      <td>5</td>\n",
       "      <td>5</td>\n",
       "      <td>1</td>\n",
       "      <td>0</td>\n",
       "      <td>0</td>\n",
       "      <td>0</td>\n",
       "      <td>-7.2</td>\n",
       "      <td>-15.0</td>\n",
       "      <td>53.68</td>\n",
       "      <td>0.000</td>\n",
       "      <td>0</td>\n",
       "      <td>0.0</td>\n",
       "      <td>16.3</td>\n",
       "      <td>31.6</td>\n",
       "      <td>16.0</td>\n",
       "      <td>0</td>\n",
       "    </tr>\n",
       "    <tr>\n",
       "      <th>1</th>\n",
       "      <td>21</td>\n",
       "      <td>4</td>\n",
       "      <td>1</td>\n",
       "      <td>0</td>\n",
       "      <td>1</td>\n",
       "      <td>0</td>\n",
       "      <td>-1.3</td>\n",
       "      <td>-12.8</td>\n",
       "      <td>40.97</td>\n",
       "      <td>0.000</td>\n",
       "      <td>0</td>\n",
       "      <td>0.0</td>\n",
       "      <td>23.9</td>\n",
       "      <td>85.7</td>\n",
       "      <td>16.0</td>\n",
       "      <td>0</td>\n",
       "    </tr>\n",
       "    <tr>\n",
       "      <th>2</th>\n",
       "      <td>21</td>\n",
       "      <td>3</td>\n",
       "      <td>8</td>\n",
       "      <td>0</td>\n",
       "      <td>1</td>\n",
       "      <td>1</td>\n",
       "      <td>26.9</td>\n",
       "      <td>21.8</td>\n",
       "      <td>73.39</td>\n",
       "      <td>0.000</td>\n",
       "      <td>0</td>\n",
       "      <td>0.0</td>\n",
       "      <td>0.0</td>\n",
       "      <td>81.1</td>\n",
       "      <td>16.0</td>\n",
       "      <td>0</td>\n",
       "    </tr>\n",
       "    <tr>\n",
       "      <th>3</th>\n",
       "      <td>1</td>\n",
       "      <td>6</td>\n",
       "      <td>1</td>\n",
       "      <td>0</td>\n",
       "      <td>0</td>\n",
       "      <td>0</td>\n",
       "      <td>3.1</td>\n",
       "      <td>-4.0</td>\n",
       "      <td>59.74</td>\n",
       "      <td>0.000</td>\n",
       "      <td>0</td>\n",
       "      <td>0.0</td>\n",
       "      <td>19.2</td>\n",
       "      <td>0.0</td>\n",
       "      <td>16.0</td>\n",
       "      <td>0</td>\n",
       "    </tr>\n",
       "    <tr>\n",
       "      <th>4</th>\n",
       "      <td>17</td>\n",
       "      <td>0</td>\n",
       "      <td>3</td>\n",
       "      <td>0</td>\n",
       "      <td>1</td>\n",
       "      <td>0</td>\n",
       "      <td>11.7</td>\n",
       "      <td>-11.4</td>\n",
       "      <td>18.71</td>\n",
       "      <td>0.000</td>\n",
       "      <td>0</td>\n",
       "      <td>0.0</td>\n",
       "      <td>10.5</td>\n",
       "      <td>44.6</td>\n",
       "      <td>16.0</td>\n",
       "      <td>0</td>\n",
       "    </tr>\n",
       "    <tr>\n",
       "      <th>...</th>\n",
       "      <td>...</td>\n",
       "      <td>...</td>\n",
       "      <td>...</td>\n",
       "      <td>...</td>\n",
       "      <td>...</td>\n",
       "      <td>...</td>\n",
       "      <td>...</td>\n",
       "      <td>...</td>\n",
       "      <td>...</td>\n",
       "      <td>...</td>\n",
       "      <td>...</td>\n",
       "      <td>...</td>\n",
       "      <td>...</td>\n",
       "      <td>...</td>\n",
       "      <td>...</td>\n",
       "      <td>...</td>\n",
       "    </tr>\n",
       "    <tr>\n",
       "      <th>1595</th>\n",
       "      <td>3</td>\n",
       "      <td>5</td>\n",
       "      <td>6</td>\n",
       "      <td>0</td>\n",
       "      <td>0</td>\n",
       "      <td>1</td>\n",
       "      <td>21.5</td>\n",
       "      <td>19.4</td>\n",
       "      <td>87.68</td>\n",
       "      <td>0.000</td>\n",
       "      <td>0</td>\n",
       "      <td>0.0</td>\n",
       "      <td>10.6</td>\n",
       "      <td>24.4</td>\n",
       "      <td>16.0</td>\n",
       "      <td>0</td>\n",
       "    </tr>\n",
       "    <tr>\n",
       "      <th>1596</th>\n",
       "      <td>14</td>\n",
       "      <td>0</td>\n",
       "      <td>6</td>\n",
       "      <td>0</td>\n",
       "      <td>1</td>\n",
       "      <td>1</td>\n",
       "      <td>23.2</td>\n",
       "      <td>20.1</td>\n",
       "      <td>82.43</td>\n",
       "      <td>2.217</td>\n",
       "      <td>0</td>\n",
       "      <td>0.0</td>\n",
       "      <td>9.8</td>\n",
       "      <td>92.1</td>\n",
       "      <td>10.4</td>\n",
       "      <td>0</td>\n",
       "    </tr>\n",
       "    <tr>\n",
       "      <th>1597</th>\n",
       "      <td>13</td>\n",
       "      <td>0</td>\n",
       "      <td>3</td>\n",
       "      <td>0</td>\n",
       "      <td>1</td>\n",
       "      <td>1</td>\n",
       "      <td>13.9</td>\n",
       "      <td>-2.2</td>\n",
       "      <td>32.93</td>\n",
       "      <td>0.000</td>\n",
       "      <td>0</td>\n",
       "      <td>2.0</td>\n",
       "      <td>18.2</td>\n",
       "      <td>79.3</td>\n",
       "      <td>16.0</td>\n",
       "      <td>0</td>\n",
       "    </tr>\n",
       "    <tr>\n",
       "      <th>1598</th>\n",
       "      <td>14</td>\n",
       "      <td>5</td>\n",
       "      <td>3</td>\n",
       "      <td>0</td>\n",
       "      <td>0</td>\n",
       "      <td>1</td>\n",
       "      <td>11.7</td>\n",
       "      <td>-9.3</td>\n",
       "      <td>22.09</td>\n",
       "      <td>0.000</td>\n",
       "      <td>0</td>\n",
       "      <td>0.0</td>\n",
       "      <td>5.8</td>\n",
       "      <td>24.4</td>\n",
       "      <td>16.0</td>\n",
       "      <td>1</td>\n",
       "    </tr>\n",
       "    <tr>\n",
       "      <th>1599</th>\n",
       "      <td>22</td>\n",
       "      <td>6</td>\n",
       "      <td>2</td>\n",
       "      <td>0</td>\n",
       "      <td>0</td>\n",
       "      <td>0</td>\n",
       "      <td>4.2</td>\n",
       "      <td>1.7</td>\n",
       "      <td>84.11</td>\n",
       "      <td>1.081</td>\n",
       "      <td>0</td>\n",
       "      <td>0.0</td>\n",
       "      <td>21.9</td>\n",
       "      <td>97.4</td>\n",
       "      <td>16.0</td>\n",
       "      <td>0</td>\n",
       "    </tr>\n",
       "  </tbody>\n",
       "</table>\n",
       "<p>1600 rows × 16 columns</p>\n",
       "</div>"
      ],
      "text/plain": [
       "      hour_of_day  day_of_week  month  holiday  weekday  summertime  temp  \\\n",
       "0               5            5      1        0        0           0  -7.2   \n",
       "1              21            4      1        0        1           0  -1.3   \n",
       "2              21            3      8        0        1           1  26.9   \n",
       "3               1            6      1        0        0           0   3.1   \n",
       "4              17            0      3        0        1           0  11.7   \n",
       "...           ...          ...    ...      ...      ...         ...   ...   \n",
       "1595            3            5      6        0        0           1  21.5   \n",
       "1596           14            0      6        0        1           1  23.2   \n",
       "1597           13            0      3        0        1           1  13.9   \n",
       "1598           14            5      3        0        0           1  11.7   \n",
       "1599           22            6      2        0        0           0   4.2   \n",
       "\n",
       "       dew  humidity  precip  snow  snowdepth  windspeed  cloudcover  \\\n",
       "0    -15.0     53.68   0.000     0        0.0       16.3        31.6   \n",
       "1    -12.8     40.97   0.000     0        0.0       23.9        85.7   \n",
       "2     21.8     73.39   0.000     0        0.0        0.0        81.1   \n",
       "3     -4.0     59.74   0.000     0        0.0       19.2         0.0   \n",
       "4    -11.4     18.71   0.000     0        0.0       10.5        44.6   \n",
       "...    ...       ...     ...   ...        ...        ...         ...   \n",
       "1595  19.4     87.68   0.000     0        0.0       10.6        24.4   \n",
       "1596  20.1     82.43   2.217     0        0.0        9.8        92.1   \n",
       "1597  -2.2     32.93   0.000     0        2.0       18.2        79.3   \n",
       "1598  -9.3     22.09   0.000     0        0.0        5.8        24.4   \n",
       "1599   1.7     84.11   1.081     0        0.0       21.9        97.4   \n",
       "\n",
       "      visibility  increase_stock_binary  \n",
       "0           16.0                      0  \n",
       "1           16.0                      0  \n",
       "2           16.0                      0  \n",
       "3           16.0                      0  \n",
       "4           16.0                      0  \n",
       "...          ...                    ...  \n",
       "1595        16.0                      0  \n",
       "1596        10.4                      0  \n",
       "1597        16.0                      0  \n",
       "1598        16.0                      1  \n",
       "1599        16.0                      0  \n",
       "\n",
       "[1600 rows x 16 columns]"
      ]
     },
     "execution_count": 3,
     "metadata": {},
     "output_type": "execute_result"
    }
   ],
   "source": [
    "# Load the dataset\n",
    "file_path = 'training_data.csv'\n",
    "data = pd.read_csv(file_path)\n",
    "data['increase_stock_binary'] = data['increase_stock'].apply(lambda x: 1 if x == 'high_bike_demand' else 0)\n",
    "data = data.drop([\"increase_stock\"], axis=1)\n",
    "# Display the first few rows of the dataframe\n",
    "data"
   ]
  },
  {
   "cell_type": "code",
   "execution_count": 4,
   "id": "c082446b-19e4-4748-8d6c-30fb665881af",
   "metadata": {},
   "outputs": [
    {
     "data": {
      "text/plain": [
       "((1600, 15), (1600,))"
      ]
     },
     "execution_count": 4,
     "metadata": {},
     "output_type": "execute_result"
    }
   ],
   "source": [
    "X = data.to_numpy()\n",
    "scaler = MinMaxScaler()\n",
    "X = scaler.fit_transform(X)\n",
    "\n",
    "y = X[:,-1].astype(np.float32)\n",
    "X = X[:,:-1].astype(np.float32)\n",
    "X.shape, y.shape"
   ]
  },
  {
   "cell_type": "markdown",
   "id": "508b5ca2-4238-4ac9-a722-6132e74c327a",
   "metadata": {
    "tags": []
   },
   "source": [
    "## Random Forest Ensemble (single validation)"
   ]
  },
  {
   "cell_type": "code",
   "execution_count": 10,
   "id": "e22b0a5c-3269-4281-9637-a3ba31cf7017",
   "metadata": {
    "tags": []
   },
   "outputs": [
    {
     "name": "stdout",
     "output_type": "stream",
     "text": [
      "average accuracy 0.87543\n"
     ]
    },
    {
     "data": {
      "text/plain": [
       "0.8775"
      ]
     },
     "execution_count": 10,
     "metadata": {},
     "output_type": "execute_result"
    }
   ],
   "source": [
    "metric = lambda a, b: (a == b).mean()\n",
    "\n",
    "def RandomForestEnsemble(x, models):\n",
    "    predictions = [model.predict_proba(x) for model in models]\n",
    "    proba1 = np.mean(predictions, axis=0)[:, 1] # probability of predicting label 1\n",
    "    return proba1.round() # [0,0,0,1,0,1,0,0,0,...]\n",
    "\n",
    "def compute_precision(predictions, labels, positive_label=1):\n",
    "    TP = ((predictions == positive_label) & (labels == positive_label)).sum().item()\n",
    "    FP = ((predictions == positive_label) & (labels != positive_label)).sum().item()\n",
    "    return TP / (TP + FP) if (TP + FP) > 0 else 0\n",
    "\n",
    "def compute_recall(predictions, labels, positive_label=1):\n",
    "    TP = ((predictions == positive_label) & (labels == positive_label)).sum().item()\n",
    "    FN = ((predictions != positive_label) & (labels == positive_label)).sum().item()\n",
    "    return TP / (TP + FN) if (TP + FN) > 0 else 0\n",
    "\n",
    "X_train, X_test, y_train, y_test = train_test_split(X, y, train_size=0.75, random_state=0, shuffle=True)\n",
    "\n",
    "seeds = range(50)\n",
    "scores = []\n",
    "models = []\n",
    "kf = StratifiedKFold(n_splits=5, shuffle=True, random_state=0)\n",
    "\n",
    "for s in seeds:\n",
    "    # Note how the indices between the validation set and train set are flipped.\n",
    "    # This means that the classifier will be trained on less than 50% of the data.\n",
    "    for i, (train_index, test_index) in enumerate(kf.split(X_train, y_train)):\n",
    "        clf = RandomForestClassifier(\n",
    "            n_estimators=200, max_depth=100, criterion=\"entropy\",\n",
    "            random_state=s, n_jobs=-1\n",
    "        )\n",
    "        clf.fit(X_train[train_index], y_train[train_index])\n",
    "        # accuracy = clf.score(X_train[test_index], y_train[test_index])\n",
    "        accuracy = clf.score(X_test, y_test)\n",
    "        scores.append(accuracy)\n",
    "        models.append(clf)\n",
    "\n",
    "print(\"average accuracy\", np.mean(scores))\n",
    "\n",
    "X_pred = RandomForestEnsemble(X_test, models)\n",
    "metric(X_pred, y_test)"
   ]
  },
  {
   "cell_type": "code",
   "execution_count": 9,
   "id": "e49e31e0-4be3-47d8-adf1-e6b2372be41a",
   "metadata": {},
   "outputs": [
    {
     "name": "stdout",
     "output_type": "stream",
     "text": [
      "0.81\n",
      "0.81 1.0\n",
      "0 0.0\n"
     ]
    }
   ],
   "source": [
    "X_pred = np.zeros(len(y_test))\n",
    "print(metric(X_pred, y_test))\n",
    "for positive_label in [0, 1]:\n",
    "    recall = compute_recall(X_pred, y_test, positive_label)\n",
    "    precision = compute_precision(X_pred, y_test, positive_label)\n",
    "    print(round(precision, 2), round(recall, 2))"
   ]
  },
  {
   "cell_type": "code",
   "execution_count": 49,
   "id": "22d2e338-c87b-4c0f-9e66-6855141bdf41",
   "metadata": {},
   "outputs": [
    {
     "name": "stdout",
     "output_type": "stream",
     "text": [
      "0.8775\n",
      "0.91 0.95\n",
      "0.72 0.58\n"
     ]
    }
   ],
   "source": [
    "X_pred = RandomForestEnsemble(X_test, models)\n",
    "print(metric(X_pred, y_test))\n",
    "for positive_label in [0, 1]:\n",
    "    recall = compute_recall(X_pred, y_test, positive_label)\n",
    "    precision = compute_precision(X_pred, y_test, positive_label)\n",
    "    print(round(precision, 2), round(recall, 2))"
   ]
  },
  {
   "cell_type": "code",
   "execution_count": 42,
   "id": "502324a3-93a2-4cc3-a627-7596756a8b1d",
   "metadata": {},
   "outputs": [
    {
     "data": {
      "text/plain": [
       "(0.875, 0.9016666666666666)"
      ]
     },
     "execution_count": 42,
     "metadata": {},
     "output_type": "execute_result"
    }
   ],
   "source": [
    "X_train, X_test, y_train, y_test = train_test_split(X, y, train_size=0.75, random_state=0, shuffle=True)\n",
    "\n",
    "clf = RandomForestClassifier(\n",
    "    n_estimators=200, max_depth=100, criterion=\"entropy\", oob_score=True,\n",
    "    random_state=0, n_jobs=-1\n",
    ")\n",
    "\n",
    "clf.fit(X_train, y_train)\n",
    "# clf.score(X_test, y_test), clf.oob_score_"
   ]
  },
  {
   "cell_type": "markdown",
   "id": "8ad16fef-a308-4f1e-91e7-2cd2338d267d",
   "metadata": {},
   "source": [
    "## Evaluating Random Forest Ensemble with k-fold cross-validaiton"
   ]
  },
  {
   "cell_type": "code",
   "execution_count": 10,
   "id": "8d572088-c42f-43c1-91d9-00fd8f1795ca",
   "metadata": {
    "tags": []
   },
   "outputs": [
    {
     "name": "stderr",
     "output_type": "stream",
     "text": [
      "1it [00:13, 13.22s/it]"
     ]
    },
    {
     "name": "stdout",
     "output_type": "stream",
     "text": [
      "ensemble accuracy 0.8458333333333333\n"
     ]
    },
    {
     "name": "stderr",
     "output_type": "stream",
     "text": [
      "2it [00:27, 13.86s/it]"
     ]
    },
    {
     "name": "stdout",
     "output_type": "stream",
     "text": [
      "ensemble accuracy 0.8958333333333334\n"
     ]
    },
    {
     "name": "stderr",
     "output_type": "stream",
     "text": [
      "3it [00:42, 14.20s/it]"
     ]
    },
    {
     "name": "stdout",
     "output_type": "stream",
     "text": [
      "ensemble accuracy 0.8791666666666667\n"
     ]
    },
    {
     "name": "stderr",
     "output_type": "stream",
     "text": [
      "4it [00:56, 14.34s/it]"
     ]
    },
    {
     "name": "stdout",
     "output_type": "stream",
     "text": [
      "ensemble accuracy 0.9166666666666666\n"
     ]
    },
    {
     "name": "stderr",
     "output_type": "stream",
     "text": [
      "5it [01:15, 15.20s/it]"
     ]
    },
    {
     "name": "stdout",
     "output_type": "stream",
     "text": [
      "ensemble accuracy 0.8958333333333334\n"
     ]
    },
    {
     "name": "stderr",
     "output_type": "stream",
     "text": [
      "\n"
     ]
    }
   ],
   "source": [
    "seeds = range(10)\n",
    "# kf = StraKFold(5, random_state=0, shuffle=True)\n",
    "\n",
    "for i, (train_index, test_index) in tqdm(enumerate(kf.split(X_train, y_train))):\n",
    "    X_, X_test = X[train_index], X[test_index]\n",
    "    y_, y_test = y[train_index], y[test_index]\n",
    "    models = []\n",
    "    \n",
    "    # This loop creates a list of 3 * seeds classifiers using Bagging,\n",
    "    # by splitting the training set into 3 sets. \n",
    "    for s in seeds:\n",
    "        # Note how the indices between the validation set and train set are flipped.\n",
    "        # This means that the classifier will be trained on less than 50% of the data.\n",
    "        for i, (train_index_, _) in enumerate(KFold(n_splits=3).split(X_)):\n",
    "            X_train = X_[train_index_]\n",
    "            y_train = y_[train_index_]\n",
    "            clf = RandomForestClassifier(\n",
    "                n_estimators=200, max_depth=100, criterion=\"entropy\",\n",
    "                random_state=s, n_jobs=-1\n",
    "            )\n",
    "            clf.fit(X_train, y_train)\n",
    "            models.append(clf)\n",
    "\n",
    "    X_pred = RandomForestEnsemble(X_test, models)\n",
    "    print(\"ensemble accuracy\", metric(X_pred, y_test))"
   ]
  },
  {
   "cell_type": "code",
   "execution_count": 74,
   "id": "71a28d43-b4d5-46c5-ad1a-84bbb69d7c24",
   "metadata": {},
   "outputs": [
    {
     "data": {
      "text/plain": [
       "0.8956250000000001"
      ]
     },
     "execution_count": 74,
     "metadata": {},
     "output_type": "execute_result"
    }
   ],
   "source": [
    "np.mean([0.865625, 0.878125, 0.909375, 0.909375, 0.915625])"
   ]
  },
  {
   "cell_type": "code",
   "execution_count": 152,
   "id": "fc5b1ee3-efd5-4690-92e1-50fe59ef7c5e",
   "metadata": {},
   "outputs": [
    {
     "data": {
      "text/plain": [
       "(array([3., 6., 1., 0., 0., 0., 1., 6., 6., 7.]),\n",
       " array([0.84895833, 0.853125  , 0.85729167, 0.86145833, 0.865625  ,\n",
       "        0.86979167, 0.87395833, 0.878125  , 0.88229167, 0.88645833,\n",
       "        0.890625  ]),\n",
       " <BarContainer object of 10 artists>)"
      ]
     },
     "execution_count": 152,
     "metadata": {},
     "output_type": "execute_result"
    },
    {
     "data": {
      "image/png": "[encoded data removed]",
      "text/plain": [
       "<Figure size 1000x700 with 1 Axes>"
      ]
     },
     "metadata": {
      "needs_background": "light"
     },
     "output_type": "display_data"
    }
   ],
   "source": [
    "plt.hist(scores)"
   ]
  },
  {
   "cell_type": "code",
   "execution_count": null,
   "id": "3c0d9816-21d3-4cb9-aad8-c31cf6f467b9",
   "metadata": {},
   "outputs": [],
   "source": []
  }
 ],
 "metadata": {
  "kernelspec": {
   "display_name": "Python 3 (ipykernel)",
   "language": "python",
   "name": "python3"
  },
  "language_info": {
   "codemirror_mode": {
    "name": "ipython",
    "version": 3
   },
   "file_extension": ".py",
   "mimetype": "text/x-python",
   "name": "python",
   "nbconvert_exporter": "python",
   "pygments_lexer": "ipython3",
   "version": "3.9.13"
  }
 },
 "nbformat": 4,
 "nbformat_minor": 5
}
